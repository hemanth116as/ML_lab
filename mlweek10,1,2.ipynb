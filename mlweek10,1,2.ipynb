{
  "nbformat": 4,
  "nbformat_minor": 0,
  "metadata": {
    "colab": {
      "provenance": []
    },
    "kernelspec": {
      "name": "python3",
      "display_name": "Python 3"
    },
    "language_info": {
      "name": "python"
    }
  },
  "cells": [
    {
      "cell_type": "code",
      "execution_count": null,
      "metadata": {
        "colab": {
          "base_uri": "https://localhost:8080/",
          "height": 441
        },
        "id": "HgC2yJHfpyqP",
        "outputId": "72413648-9a71-458a-9566-01e70c70b371"
      },
      "outputs": [
        {
          "output_type": "display_data",
          "data": {
            "text/plain": [
              "<Figure size 640x480 with 1 Axes>"
            ],
            "image/png": "[encoded data removed]"
          },
          "metadata": {}
        },
        {
          "output_type": "stream",
          "name": "stdout",
          "text": [
            "Prediction for the example digit: [ True]\n",
            "Mean cross-validation accuracy: 0.9787\n"
          ]
        }
      ],
      "source": [
        "from sklearn.datasets import fetch_openml\n",
        "import matplotlib\n",
        "import matplotlib.pyplot as plt\n",
        "import numpy as np\n",
        "from sklearn.linear_model import LogisticRegression\n",
        "from sklearn.model_selection import cross_val_score\n",
        "\n",
        "mnist = fetch_openml('mnist_784', version=1, as_frame=False)\n",
        "x, y = mnist['data'], mnist['target']\n",
        "\n",
        "some_digit = x[36001]\n",
        "some_digit_image = some_digit.reshape(28, 28)\n",
        "plt.imshow(some_digit_image, cmap=matplotlib.cm.binary, interpolation='nearest')\n",
        "plt.axis(\"off\")\n",
        "plt.show()\n",
        "\n",
        "x_train, x_test = x[:60000], x[60000:]\n",
        "y_train, y_test = y[:60000], y[60000:]\n",
        "\n",
        "shuffle_index = np.random.permutation(60000)\n",
        "x_train, y_train = x_train[shuffle_index], y_train[shuffle_index]\n",
        "\n",
        "y_train = y_train.astype(np.int8)\n",
        "y_test = y_test.astype(np.int8)\n",
        "y_train_2 = (y_train == 2)\n",
        "y_test_2 = (y_test == 2)\n",
        "\n",
        "clf = LogisticRegression(tol=0.1, max_iter=1000)\n",
        "clf.fit(x_train, y_train_2)\n",
        "\n",
        "example = clf.predict([some_digit])\n",
        "print(f\"Prediction for the example digit: {example}\")\n",
        "\n",
        "a = cross_val_score(clf, x_train, y_train_2, cv=3, scoring=\"accuracy\")\n",
        "print(f\"Mean cross-validation accuracy: {a.mean():.4f}\")"
      ]
    },
    {
      "cell_type": "code",
      "source": [
        "from sklearn.datasets import fetch_openml\n",
        "from sklearn.ensemble import RandomForestClassifier\n",
        "from sklearn.metrics import accuracy_score\n",
        "\n",
        "mnist = fetch_openml('mnist_784', version=1)\n",
        "X, y = mnist[\"data\"], mnist[\"target\"]\n",
        "\n",
        "X_train, X_test, y_train, y_test = X[:60000], X[60000:], y[:60000], y[60000:]\n",
        "\n",
        "rf_clf = RandomForestClassifier(random_state=42)\n",
        "rf_clf.fit(X_train, y_train)\n",
        "\n",
        "y_pred = rf_clf.predict(X_test)\n",
        "score = accuracy_score(y_test, y_pred)\n",
        "print(\"Accuracy score after training on existing dataset\", score)"
      ],
      "metadata": {
        "colab": {
          "base_uri": "https://localhost:8080/"
        },
        "id": "rPZjnHhOrqHG",
        "outputId": "5e558caf-4565-48e9-eec2-bd4c932c01f4"
      },
      "execution_count": null,
      "outputs": [
        {
          "output_type": "stream",
          "name": "stdout",
          "text": [
            "Accuracy score after training on existing dataset 0.9705\n"
          ]
        }
      ]
    }
  ]
}